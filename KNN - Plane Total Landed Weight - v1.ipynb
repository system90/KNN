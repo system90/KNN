{
 "cells": [
  {
   "cell_type": "markdown",
   "metadata": {},
   "source": [
    "## KNN - Plane Total Landed Weight"
   ]
  },
  {
   "cell_type": "markdown",
   "metadata": {},
   "source": [
    "K Nearest Neighbours algorithm using San Francisco air traffic dataset. Trying to predict the total landed weight of a plane."
   ]
  },
  {
   "cell_type": "code",
   "execution_count": 1,
   "metadata": {},
   "outputs": [],
   "source": [
    "# Libraries\n",
    "import pandas as pd\n",
    "import numpy as np\n",
    "\n",
    "import sklearn\n",
    "from sklearn.utils import shuffle\n",
    "from sklearn.neighbors import KNeighborsClassifier\n",
    "from sklearn import linear_model, preprocessing\n"
   ]
  },
  {
   "cell_type": "code",
   "execution_count": 2,
   "metadata": {},
   "outputs": [],
   "source": [
    "air_t = pd.read_csv('air-traffic-landings-statistics_v2.csv')"
   ]
  },
  {
   "cell_type": "code",
   "execution_count": 3,
   "metadata": {},
   "outputs": [
    {
     "data": {
      "text/plain": [
       "(21762, 10)"
      ]
     },
     "execution_count": 3,
     "metadata": {},
     "output_type": "execute_result"
    }
   ],
   "source": [
    "# check the dimesions of dataset\n",
    "air_t.shape"
   ]
  },
  {
   "cell_type": "code",
   "execution_count": 4,
   "metadata": {},
   "outputs": [
    {
     "data": {
      "text/html": [
       "<div>\n",
       "<style scoped>\n",
       "    .dataframe tbody tr th:only-of-type {\n",
       "        vertical-align: middle;\n",
       "    }\n",
       "\n",
       "    .dataframe tbody tr th {\n",
       "        vertical-align: top;\n",
       "    }\n",
       "\n",
       "    .dataframe thead th {\n",
       "        text-align: right;\n",
       "    }\n",
       "</style>\n",
       "<table border=\"1\" class=\"dataframe\">\n",
       "  <thead>\n",
       "    <tr style=\"text-align: right;\">\n",
       "      <th></th>\n",
       "      <th>Operating Airline</th>\n",
       "      <th>Operating Airline IATA Code</th>\n",
       "      <th>GEO Summary</th>\n",
       "      <th>GEO Region</th>\n",
       "      <th>Landing Aircraft Type</th>\n",
       "      <th>Aircraft Body Type</th>\n",
       "      <th>Aircraft Manufacturer</th>\n",
       "      <th>Aircraft Model</th>\n",
       "      <th>Landing Count</th>\n",
       "      <th>Total Landed Weight</th>\n",
       "    </tr>\n",
       "  </thead>\n",
       "  <tbody>\n",
       "    <tr>\n",
       "      <th>0</th>\n",
       "      <td>ATA Airlines</td>\n",
       "      <td>TZ</td>\n",
       "      <td>Domestic</td>\n",
       "      <td>US</td>\n",
       "      <td>Passenger</td>\n",
       "      <td>Narrow Body</td>\n",
       "      <td>Boeing</td>\n",
       "      <td>757</td>\n",
       "      <td>83</td>\n",
       "      <td>16434000</td>\n",
       "    </tr>\n",
       "    <tr>\n",
       "      <th>1</th>\n",
       "      <td>ATA Airlines</td>\n",
       "      <td>TZ</td>\n",
       "      <td>Domestic</td>\n",
       "      <td>US</td>\n",
       "      <td>Passenger</td>\n",
       "      <td>Narrow Body</td>\n",
       "      <td>Boeing</td>\n",
       "      <td>757</td>\n",
       "      <td>3</td>\n",
       "      <td>672000</td>\n",
       "    </tr>\n",
       "    <tr>\n",
       "      <th>2</th>\n",
       "      <td>ATA Airlines</td>\n",
       "      <td>TZ</td>\n",
       "      <td>Domestic</td>\n",
       "      <td>US</td>\n",
       "      <td>Passenger</td>\n",
       "      <td>Wide Body</td>\n",
       "      <td>Lockheed</td>\n",
       "      <td>L1011</td>\n",
       "      <td>27</td>\n",
       "      <td>9666000</td>\n",
       "    </tr>\n",
       "    <tr>\n",
       "      <th>3</th>\n",
       "      <td>Air Canada</td>\n",
       "      <td>AC</td>\n",
       "      <td>International</td>\n",
       "      <td>Canada</td>\n",
       "      <td>Passenger</td>\n",
       "      <td>Narrow Body</td>\n",
       "      <td>Boeing</td>\n",
       "      <td>737</td>\n",
       "      <td>5</td>\n",
       "      <td>525000</td>\n",
       "    </tr>\n",
       "    <tr>\n",
       "      <th>4</th>\n",
       "      <td>Air Canada</td>\n",
       "      <td>AC</td>\n",
       "      <td>International</td>\n",
       "      <td>Canada</td>\n",
       "      <td>Passenger</td>\n",
       "      <td>Narrow Body</td>\n",
       "      <td>Boeing</td>\n",
       "      <td>737</td>\n",
       "      <td>15</td>\n",
       "      <td>1605000</td>\n",
       "    </tr>\n",
       "  </tbody>\n",
       "</table>\n",
       "</div>"
      ],
      "text/plain": [
       "  Operating Airline Operating Airline IATA Code    GEO Summary GEO Region  \\\n",
       "0      ATA Airlines                          TZ       Domestic         US   \n",
       "1      ATA Airlines                          TZ       Domestic         US   \n",
       "2      ATA Airlines                          TZ       Domestic         US   \n",
       "3        Air Canada                          AC  International     Canada   \n",
       "4        Air Canada                          AC  International     Canada   \n",
       "\n",
       "  Landing Aircraft Type Aircraft Body Type Aircraft Manufacturer  \\\n",
       "0             Passenger        Narrow Body                Boeing   \n",
       "1             Passenger        Narrow Body                Boeing   \n",
       "2             Passenger          Wide Body              Lockheed   \n",
       "3             Passenger        Narrow Body                Boeing   \n",
       "4             Passenger        Narrow Body                Boeing   \n",
       "\n",
       "  Aircraft Model  Landing Count  Total Landed Weight  \n",
       "0            757             83             16434000  \n",
       "1            757              3               672000  \n",
       "2          L1011             27              9666000  \n",
       "3            737              5               525000  \n",
       "4            737             15              1605000  "
      ]
     },
     "execution_count": 4,
     "metadata": {},
     "output_type": "execute_result"
    }
   ],
   "source": [
    "# View first rows of dataset\n",
    "air_t.head()"
   ]
  },
  {
   "cell_type": "markdown",
   "metadata": {},
   "source": [
    "The dataset consists of 10 features, 2 of which are numerical, 8 categorical."
   ]
  },
  {
   "cell_type": "markdown",
   "metadata": {},
   "source": [
    "Last column 'Total Landed Weight' will be set as the target variable."
   ]
  },
  {
   "cell_type": "code",
   "execution_count": 5,
   "metadata": {},
   "outputs": [
    {
     "data": {
      "text/html": [
       "<div>\n",
       "<style scoped>\n",
       "    .dataframe tbody tr th:only-of-type {\n",
       "        vertical-align: middle;\n",
       "    }\n",
       "\n",
       "    .dataframe tbody tr th {\n",
       "        vertical-align: top;\n",
       "    }\n",
       "\n",
       "    .dataframe thead th {\n",
       "        text-align: right;\n",
       "    }\n",
       "</style>\n",
       "<table border=\"1\" class=\"dataframe\">\n",
       "  <thead>\n",
       "    <tr style=\"text-align: right;\">\n",
       "      <th></th>\n",
       "      <th>Landing Count</th>\n",
       "      <th>Total Landed Weight</th>\n",
       "    </tr>\n",
       "  </thead>\n",
       "  <tbody>\n",
       "    <tr>\n",
       "      <th>count</th>\n",
       "      <td>21762.000000</td>\n",
       "      <td>2.176200e+04</td>\n",
       "    </tr>\n",
       "    <tr>\n",
       "      <th>mean</th>\n",
       "      <td>113.421652</td>\n",
       "      <td>1.896583e+07</td>\n",
       "    </tr>\n",
       "    <tr>\n",
       "      <th>std</th>\n",
       "      <td>248.910829</td>\n",
       "      <td>3.009876e+07</td>\n",
       "    </tr>\n",
       "    <tr>\n",
       "      <th>min</th>\n",
       "      <td>1.000000</td>\n",
       "      <td>6.850000e+03</td>\n",
       "    </tr>\n",
       "    <tr>\n",
       "      <th>25%</th>\n",
       "      <td>14.000000</td>\n",
       "      <td>3.080500e+06</td>\n",
       "    </tr>\n",
       "    <tr>\n",
       "      <th>50%</th>\n",
       "      <td>31.000000</td>\n",
       "      <td>9.678039e+06</td>\n",
       "    </tr>\n",
       "    <tr>\n",
       "      <th>75%</th>\n",
       "      <td>84.000000</td>\n",
       "      <td>1.953000e+07</td>\n",
       "    </tr>\n",
       "    <tr>\n",
       "      <th>max</th>\n",
       "      <td>2245.000000</td>\n",
       "      <td>2.730420e+08</td>\n",
       "    </tr>\n",
       "  </tbody>\n",
       "</table>\n",
       "</div>"
      ],
      "text/plain": [
       "       Landing Count  Total Landed Weight\n",
       "count   21762.000000         2.176200e+04\n",
       "mean      113.421652         1.896583e+07\n",
       "std       248.910829         3.009876e+07\n",
       "min         1.000000         6.850000e+03\n",
       "25%        14.000000         3.080500e+06\n",
       "50%        31.000000         9.678039e+06\n",
       "75%        84.000000         1.953000e+07\n",
       "max      2245.000000         2.730420e+08"
      ]
     },
     "execution_count": 5,
     "metadata": {},
     "output_type": "execute_result"
    }
   ],
   "source": [
    "# view stats of dataset\n",
    "air_t.describe()"
   ]
  },
  {
   "cell_type": "code",
   "execution_count": 6,
   "metadata": {},
   "outputs": [],
   "source": [
    "# Features by type:\n",
    "# Operating Airline: Categorical\n",
    "# Operating Airline IATA Code: Categorical\n",
    "# GEO Summary: Categorical\n",
    "# GEO Region: Categorical\n",
    "# Landing Aircraft Type: Categorical\n",
    "# Aircraft Body Type: Categorical\n",
    "# Aircraft Manufacturer: Categorical\n",
    "# Aircraft Model: Categorical\n",
    "# Landing Count: Numerical\n",
    "# Total Landed Weight: Numerical"
   ]
  },
  {
   "cell_type": "code",
   "execution_count": 8,
   "metadata": {},
   "outputs": [],
   "source": [
    "# Need to use non-numerical data for variables:\n",
    "# sklearn will covert non-numerical values into numerical values.\n",
    "\n",
    "le = preprocessing.LabelEncoder()    # coding the labels into integer values (using Label Encoder function)\n",
    "\n",
    "# creating lists for each column:\n",
    "Operating_Airline = le.fit_transform(list(air_t['Operating Airline']))\n",
    "Op_IATA_Code = le.fit_transform(list(air_t['Operating Airline IATA Code']))\n",
    "GEO_Summary = le.fit_transform(list(air_t['GEO Summary']))\n",
    "GEO_Region = le.fit_transform(list(air_t['GEO Region']))\n",
    "Landing_Aircraft_Type = le.fit_transform(list(air_t['Landing Aircraft Type']))\n",
    "Aircraft_Body_Type = le.fit_transform(list(air_t['Aircraft Body Type']))\n",
    "Aircraft_Manufacturer = le.fit_transform(list(air_t['Aircraft Manufacturer']))\n",
    "Aircraft_Model = le.fit_transform(list(air_t['Aircraft Model']))\n",
    "Landing_Count = le.fit_transform(list(air_t['Landing Count']))\n",
    "Total_Landed_Weight = le.fit_transform(list(air_t['Total Landed Weight']))"
   ]
  },
  {
   "cell_type": "code",
   "execution_count": 26,
   "metadata": {},
   "outputs": [
    {
     "data": {
      "text/plain": [
       "array([82, 82, 82, ..., 90, 90, 76], dtype=int64)"
      ]
     },
     "execution_count": 26,
     "metadata": {},
     "output_type": "execute_result"
    }
   ],
   "source": [
    "# View ouput for one of the original categorical variables:\n",
    "# ('Operating Airline IATA Code')\n",
    "Op_IATA_Code"
   ]
  },
  {
   "cell_type": "markdown",
   "metadata": {},
   "source": [
    "We can see that the output for 'Operating Airline IATA Code' is now numerical."
   ]
  },
  {
   "cell_type": "markdown",
   "metadata": {},
   "source": [
    "### Separate the data into features and labels"
   ]
  },
  {
   "cell_type": "code",
   "execution_count": 9,
   "metadata": {},
   "outputs": [],
   "source": [
    "# labels: is a result we want\n",
    "# features: the variables we can use to classify the 'Total Landed Weight'"
   ]
  },
  {
   "cell_type": "code",
   "execution_count": 11,
   "metadata": {},
   "outputs": [],
   "source": [
    "# Define labels as (y) and features as (x)\n",
    "\n",
    "# x list (features):      # (zip creates tuple objects)\n",
    "X = list(zip(Operating_Airline, Op_IATA_Code, GEO_Summary, GEO_Region, Landing_Aircraft_Type, Aircraft_Body_Type, Aircraft_Manufacturer, Aircraft_Model, Landing_Count, Total_Landed_Weight))\n",
    "\n",
    "# y list (labels):\n",
    "y = list(Total_Landed_Weight)"
   ]
  },
  {
   "cell_type": "markdown",
   "metadata": {},
   "source": [
    "### Split data into Train and Test sets"
   ]
  },
  {
   "cell_type": "code",
   "execution_count": 12,
   "metadata": {},
   "outputs": [],
   "source": [
    "from sklearn.model_selection import train_test_split\n",
    "# split the features and labels data (70/30)\n",
    "\n",
    "# Test dataset:\n",
    "x_train, x_test, y_train, y_test = train_test_split(X, y, test_size = 0.3)  # test size ratio"
   ]
  },
  {
   "cell_type": "code",
   "execution_count": 13,
   "metadata": {},
   "outputs": [
    {
     "data": {
      "text/plain": [
       "[4823, 470, 3558, 384, 909]"
      ]
     },
     "execution_count": 13,
     "metadata": {},
     "output_type": "execute_result"
    }
   ],
   "source": [
    "# check the first 5 observations of the labels (y)\n",
    "y[0:5]"
   ]
  },
  {
   "cell_type": "markdown",
   "metadata": {},
   "source": [
    "### KNN Model"
   ]
  },
  {
   "cell_type": "markdown",
   "metadata": {},
   "source": [
    "#### KNN Model 1"
   ]
  },
  {
   "cell_type": "code",
   "execution_count": 28,
   "metadata": {},
   "outputs": [],
   "source": [
    "model = KNeighborsClassifier(n_neighbors=5)    # choose neighbours value"
   ]
  },
  {
   "cell_type": "code",
   "execution_count": 29,
   "metadata": {},
   "outputs": [
    {
     "name": "stdout",
     "output_type": "stream",
     "text": [
      "Model Accuracy is:  0.3937815898299893\n"
     ]
    }
   ],
   "source": [
    "model.fit(x_train, y_train)          # train the model\n",
    "acc = model.score(x_test, y_test)    # test accuracy of model\n",
    "print(\"Model Accuracy is: \", acc)    # accuracy"
   ]
  },
  {
   "cell_type": "markdown",
   "metadata": {},
   "source": [
    "When neighbours is set to 5, model accuracy is 39.4%"
   ]
  },
  {
   "cell_type": "markdown",
   "metadata": {},
   "source": [
    "#### KNN Model 2"
   ]
  },
  {
   "cell_type": "code",
   "execution_count": 17,
   "metadata": {},
   "outputs": [],
   "source": [
    "model = KNeighborsClassifier(n_neighbors=7)    # choose neighbours value"
   ]
  },
  {
   "cell_type": "code",
   "execution_count": 18,
   "metadata": {},
   "outputs": [
    {
     "name": "stdout",
     "output_type": "stream",
     "text": [
      "Model Accuracy is:  0.35794149180578955\n"
     ]
    }
   ],
   "source": [
    "model.fit(x_train, y_train)          # train the model\n",
    "acc = model.score(x_test, y_test)    # test accuracy of model\n",
    "print(\"Model Accuracy is: \", acc)    # accuracy"
   ]
  },
  {
   "cell_type": "markdown",
   "metadata": {},
   "source": [
    "When neighbours is set to 7, model accuracy is 35.8%"
   ]
  },
  {
   "cell_type": "markdown",
   "metadata": {},
   "source": [
    "#### KNN Model 3"
   ]
  },
  {
   "cell_type": "code",
   "execution_count": 32,
   "metadata": {},
   "outputs": [],
   "source": [
    "model = KNeighborsClassifier(n_neighbors=9)    # choose neighbours value"
   ]
  },
  {
   "cell_type": "code",
   "execution_count": 31,
   "metadata": {},
   "outputs": [
    {
     "name": "stdout",
     "output_type": "stream",
     "text": [
      "Model Accuracy is:  0.2830448767039363\n"
     ]
    }
   ],
   "source": [
    "model.fit(x_train, y_train)          # train the model\n",
    "acc = model.score(x_test, y_test)    # test accuracy of model\n",
    "print(\"Model Accuracy is: \", acc)    # accuracy"
   ]
  },
  {
   "cell_type": "markdown",
   "metadata": {},
   "source": [
    "When neighbours is set to 9, model accuracy is 33.8%"
   ]
  },
  {
   "cell_type": "markdown",
   "metadata": {},
   "source": [
    "From the results of the 3 models, as the neighbours value increases from 5 to 7 to 9, the model accuracy reduces."
   ]
  }
 ],
 "metadata": {
  "kernelspec": {
   "display_name": "Python 3",
   "language": "python",
   "name": "python3"
  },
  "language_info": {
   "codemirror_mode": {
    "name": "ipython",
    "version": 3
   },
   "file_extension": ".py",
   "mimetype": "text/x-python",
   "name": "python",
   "nbconvert_exporter": "python",
   "pygments_lexer": "ipython3",
   "version": "3.8.3"
  }
 },
 "nbformat": 4,
 "nbformat_minor": 4
}
